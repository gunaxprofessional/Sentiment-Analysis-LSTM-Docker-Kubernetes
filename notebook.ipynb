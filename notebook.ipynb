{
  "cells": [
    {
      "cell_type": "markdown",
      "metadata": {
        "id": "HAKcOcBvNID4"
      },
      "source": [
        "# Importing necessary libraries\n"
      ]
    },
    {
      "cell_type": "code",
      "execution_count": 25,
      "metadata": {
        "_cell_guid": "b1076dfc-b9ad-4769-8c92-a6c4dae69d19",
        "_uuid": "8f2839f25d086af736a60e9eeb907d3b93b6e0e5",
        "id": "oABa1XICNID8"
      },
      "outputs": [],
      "source": [
        "import tensorflow as tf\n",
        "import pandas as pd\n",
        "import numpy as np\n",
        "from tensorflow.keras.preprocessing.text import Tokenizer\n",
        "from tensorflow.keras.preprocessing.sequence import pad_sequences\n",
        "from sklearn.preprocessing import LabelEncoder\n",
        "from sklearn.model_selection import train_test_split\n",
        "import matplotlib.pyplot as plt\n",
        "import seaborn as sns\n",
        "import tensorflow_datasets as tfds\n",
        "from tensorflow.keras.callbacks import ModelCheckpoint"
      ]
    },
    {
      "cell_type": "code",
      "source": [
        "from google.colab import drive\n",
        "drive.mount('/content/drive')"
      ],
      "metadata": {
        "colab": {
          "base_uri": "https://localhost:8080/"
        },
        "id": "steEkYIoNP9n",
        "outputId": "735368d5-823b-4ddb-8b37-a8f53d51f969"
      },
      "execution_count": 26,
      "outputs": [
        {
          "output_type": "stream",
          "name": "stdout",
          "text": [
            "Drive already mounted at /content/drive; to attempt to forcibly remount, call drive.mount(\"/content/drive\", force_remount=True).\n"
          ]
        }
      ]
    },
    {
      "cell_type": "code",
      "execution_count": 27,
      "metadata": {
        "_cell_guid": "79c7e3d0-c299-4dcb-8224-4455121ee9b0",
        "_uuid": "d629ff2d2480ee46fbb7e2d37f6b5fab8052498a",
        "colab": {
          "base_uri": "https://localhost:8080/"
        },
        "id": "tJe7Wu_uNID_",
        "outputId": "2ff37346-0828-45df-894a-68235b22f10b"
      },
      "outputs": [
        {
          "output_type": "stream",
          "name": "stdout",
          "text": [
            "Positive reviews are 25000 and negative reviews are 25000 of total 50000 \n"
          ]
        }
      ],
      "source": [
        "dataset = pd.read_csv(\"/content/drive/MyDrive/dataset/IMDB Dataset.csv/IMDB Dataset.csv\")\n",
        "negative = len(dataset[dataset['sentiment']=='negative'])\n",
        "positive = len(dataset) - negative\n",
        "print('Positive reviews are {} and negative reviews are {} of total {} '.format(positive,negative,len(dataset)))"
      ]
    },
    {
      "cell_type": "code",
      "source": [
        "import re\n",
        "#clearing punctuation & unnecessary marks\n",
        "dataset['review'] = dataset['review'].apply(lambda x: re.sub('[,\\.!?:()\"]', '', x))\n",
        "dataset['review'] = dataset['review'].apply(lambda x: re.sub('[^a-zA-Z\"]', ' ', x))\n",
        "\n",
        "#capitalization to lowercase\n",
        "dataset['review'] = dataset['review'].apply(lambda x: x.lower())\n",
        "\n",
        "#cleaning extra spaces\n",
        "dataset['review'] = dataset['review'].apply(lambda x: x.strip())"
      ],
      "metadata": {
        "id": "UfpgKM_0QJ8U"
      },
      "execution_count": 28,
      "outputs": []
    },
    {
      "cell_type": "code",
      "source": [
        "from bs4 import BeautifulSoup\n",
        "from nltk.corpus import stopwords\n",
        "from nltk.tokenize import word_tokenize\n",
        "\n",
        "# Download NLTK stopwords data\n",
        "import nltk\n",
        "nltk.download('stopwords')\n",
        "nltk.download('punkt')\n",
        "\n",
        "stop_words = set(stopwords.words('english'))\n",
        "\n",
        "def preprocess_text(text):\n",
        "    # Remove HTML tags\n",
        "    soup = BeautifulSoup(text, \"html.parser\")\n",
        "    clean_text = soup.get_text()\n",
        "\n",
        "    # Remove non-alphanumeric characters\n",
        "    clean_text = re.sub(r'[^a-zA-Z\\s]', '', clean_text)\n",
        "\n",
        "    # Convert to lowercase\n",
        "    clean_text = clean_text.lower()\n",
        "\n",
        "    # Remove stopwords\n",
        "    word_tokens = word_tokenize(clean_text)\n",
        "    filtered_text = [word for word in word_tokens if word.lower() not in stop_words]\n",
        "\n",
        "    # Join the words back into a string\n",
        "    cleaned_text = ' '.join(filtered_text)\n",
        "\n",
        "    return cleaned_text\n",
        "\n",
        "\n",
        "dataset['review'] = dataset['review'].apply(preprocess_text)\n",
        "print(dataset['review'])"
      ],
      "metadata": {
        "colab": {
          "base_uri": "https://localhost:8080/"
        },
        "id": "C7mLaM6gQhox",
        "outputId": "d06902ec-dcd5-41b0-dc73-cebd63b62735"
      },
      "execution_count": 29,
      "outputs": [
        {
          "output_type": "stream",
          "name": "stderr",
          "text": [
            "[nltk_data] Downloading package stopwords to /root/nltk_data...\n",
            "[nltk_data]   Package stopwords is already up-to-date!\n",
            "[nltk_data] Downloading package punkt to /root/nltk_data...\n",
            "[nltk_data]   Package punkt is already up-to-date!\n"
          ]
        },
        {
          "output_type": "stream",
          "name": "stdout",
          "text": [
            "0        one reviewers mentioned watching oz episode ho...\n",
            "1        wonderful little production br br filming tech...\n",
            "2        thought wonderful way spend time hot summer we...\n",
            "3        basically family little boy jake thinks zombie...\n",
            "4        petter mattei love time money visually stunnin...\n",
            "                               ...                        \n",
            "49995    thought movie right good job creative original...\n",
            "49996    bad plot bad dialogue bad acting idiotic direc...\n",
            "49997    catholic taught parochial elementary schools n...\n",
            "49998    going disagree previous comment side maltin on...\n",
            "49999    one expects star trek movies high art fans exp...\n",
            "Name: review, Length: 50000, dtype: object\n"
          ]
        }
      ]
    },
    {
      "cell_type": "markdown",
      "metadata": {
        "id": "o_zOS4lENIEA"
      },
      "source": [
        "Converting the labels positve and negative as 1,0 so that they can be fed to the neural network to predict whether the given review is a positive or negative. Splitting of data 80% for the training and remaining 20% for testing."
      ]
    },
    {
      "cell_type": "code",
      "execution_count": 30,
      "metadata": {
        "id": "y1X_IdTuNIEA"
      },
      "outputs": [],
      "source": [
        "le = LabelEncoder()\n",
        "training_reviews,testing_reviews,training_labels,testing_labels  = train_test_split(dataset['review'].values,dataset['sentiment'].values,test_size = 0.2)\n",
        "training_labels = le.fit_transform(training_labels)\n",
        "testing_labels = le.fit_transform(testing_labels)"
      ]
    },
    {
      "cell_type": "markdown",
      "metadata": {
        "id": "n71-ouXjNIEB"
      },
      "source": [
        "# Pre-Processing The Text\n",
        "Using tokenizer to produce token for a given word and taking maximum length of 200 character of a review and after we simply truncate the input review and then padded the input to max len of 200."
      ]
    },
    {
      "cell_type": "code",
      "execution_count": 31,
      "metadata": {
        "colab": {
          "base_uri": "https://localhost:8080/"
        },
        "id": "-vDg7sPxNIEB",
        "outputId": "5cc6e15e-3361-4b25-cbdb-7c578a8551bd"
      },
      "outputs": [
        {
          "output_type": "stream",
          "name": "stdout",
          "text": [
            "Total Unique Words : 109747\n"
          ]
        }
      ],
      "source": [
        "tokenizer = Tokenizer(num_words=10000,oov_token='<OOV>')\n",
        "tokenizer.fit_on_texts(training_reviews)\n",
        "word_index = tokenizer.word_index\n",
        "training_sequence = tokenizer.texts_to_sequences(training_reviews)\n",
        "testing_sequence = tokenizer.texts_to_sequences(testing_reviews)\n",
        "train_pad_sequence = pad_sequences(training_sequence,maxlen = 200,truncating= 'post',padding = 'pre')\n",
        "test_pad_sequence = pad_sequences(testing_sequence,maxlen = 200,truncating= 'post',padding = 'pre')\n",
        "print('Total Unique Words : {}'.format(len(word_index)))"
      ]
    },
    {
      "cell_type": "markdown",
      "metadata": {
        "id": "8vTJfQYtNIEB"
      },
      "source": [
        "# Using glove vectors for embedding"
      ]
    },
    {
      "cell_type": "code",
      "execution_count": 32,
      "metadata": {
        "id": "YsJY_xySNIEC"
      },
      "outputs": [],
      "source": [
        "embedded_words = {}\n",
        "with open('/content/drive/MyDrive/glove tonkenizer/glove.6B.200d.txt/glove.6B.200d.txt') as file:\n",
        "    for line in file:\n",
        "        words, coeff = line.split(maxsplit=1)\n",
        "        coeff = np.array(coeff.split(),dtype = float)\n",
        "        embedded_words[words] = coeff"
      ]
    },
    {
      "cell_type": "code",
      "execution_count": 33,
      "metadata": {
        "id": "VshdNQN5NIEC"
      },
      "outputs": [],
      "source": [
        "embedding_matrix = np.zeros((len(word_index) + 1,200))\n",
        "for word, i in word_index.items():\n",
        "    embedding_vector = embedded_words.get(word)\n",
        "    if embedding_vector is not None:\n",
        "        embedding_matrix[i] = embedding_vector"
      ]
    },
    {
      "cell_type": "markdown",
      "metadata": {
        "id": "LTFPWg3JNIEC"
      },
      "source": [
        "# Creating The Model\n",
        "layer1: Embedding Layer using glove weights\n",
        "\n",
        "layer2: Using a Bidirectional LSTM\n",
        "\n",
        "layer3: A dropout Layer\n",
        "\n",
        "layer4: A Dense layer of 256 neurons with 'relu' activation\n",
        "\n",
        "layer5: A Dense Layer of 128 neurons with 'relu' activation\n",
        "\n",
        "layer6: Again a dropout layer.\n",
        "\n",
        "layer7: Sigmoid activation layer to classify it positive and negative.\n"
      ]
    },
    {
      "cell_type": "code",
      "execution_count": 34,
      "metadata": {
        "id": "pkkwnn57NIED"
      },
      "outputs": [],
      "source": [
        "model = tf.keras.Sequential([tf.keras.layers.Embedding(len(word_index) + 1,200,weights=[embedding_matrix],input_length=200,\n",
        "                            trainable=False),\n",
        "                             tf.keras.layers.Bidirectional(tf.keras.layers.LSTM(64)),\n",
        "                             tf.keras.layers.Dropout(0.8),\n",
        "                             tf.keras.layers.Dense(256,activation = 'relu',),\n",
        "                             tf.keras.layers.Dense(128,activation = 'relu'),\n",
        "                             tf.keras.layers.Dropout(0.8),\n",
        "                             tf.keras.layers.Dense(1,activation = tf.nn.sigmoid)])\n",
        "mcp_save = ModelCheckpoint('.mdl_wts.hdf5', save_best_only=True, monitor='val_loss', mode='min')"
      ]
    },
    {
      "cell_type": "code",
      "execution_count": 35,
      "metadata": {
        "colab": {
          "base_uri": "https://localhost:8080/"
        },
        "id": "ayAWvG52NIED",
        "outputId": "8185c8b0-5531-4b3e-ee44-777c1a5e1567"
      },
      "outputs": [
        {
          "output_type": "stream",
          "name": "stdout",
          "text": [
            "Model: \"sequential\"\n",
            "_________________________________________________________________\n",
            " Layer (type)                Output Shape              Param #   \n",
            "=================================================================\n",
            " embedding (Embedding)       (None, 200, 200)          21949600  \n",
            "                                                                 \n",
            " bidirectional (Bidirection  (None, 128)               135680    \n",
            " al)                                                             \n",
            "                                                                 \n",
            " dropout (Dropout)           (None, 128)               0         \n",
            "                                                                 \n",
            " dense (Dense)               (None, 256)               33024     \n",
            "                                                                 \n",
            " dense_1 (Dense)             (None, 128)               32896     \n",
            "                                                                 \n",
            " dropout_1 (Dropout)         (None, 128)               0         \n",
            "                                                                 \n",
            " dense_2 (Dense)             (None, 1)                 129       \n",
            "                                                                 \n",
            "=================================================================\n",
            "Total params: 22151329 (84.50 MB)\n",
            "Trainable params: 201729 (788.00 KB)\n",
            "Non-trainable params: 21949600 (83.73 MB)\n",
            "_________________________________________________________________\n"
          ]
        }
      ],
      "source": [
        "model.summary()"
      ]
    },
    {
      "cell_type": "code",
      "execution_count": 37,
      "metadata": {
        "colab": {
          "base_uri": "https://localhost:8080/"
        },
        "id": "mOnQCuD5NIEE",
        "outputId": "8cac3995-4ac3-46c4-9253-3009a958c549"
      },
      "outputs": [
        {
          "output_type": "stream",
          "name": "stdout",
          "text": [
            "Epoch 1/10\n",
            "1250/1250 [==============================] - ETA: 0s - loss: 0.4183 - accuracy: 0.8249"
          ]
        },
        {
          "output_type": "stream",
          "name": "stderr",
          "text": [
            "/usr/local/lib/python3.10/dist-packages/keras/src/engine/training.py:3079: UserWarning: You are saving your model as an HDF5 file via `model.save()`. This file format is considered legacy. We recommend using instead the native Keras format, e.g. `model.save('my_model.keras')`.\n",
            "  saving_api.save_model(\n"
          ]
        },
        {
          "output_type": "stream",
          "name": "stdout",
          "text": [
            "\b\b\b\b\b\b\b\b\b\b\b\b\b\b\b\b\b\b\b\b\b\b\b\b\b\b\b\b\b\b\b\b\b\b\b\b\b\b\b\b\b\b\b\b\b\b\b\b\b\b\b\b\b\b\b\b\b\b\b\b\b\b\b\b\b\b\b\b\b\b\b\b\b\b\b\b\b\b\b\b\b\b\b\b\b\b\r1250/1250 [==============================] - 481s 379ms/step - loss: 0.4183 - accuracy: 0.8249 - val_loss: 0.3671 - val_accuracy: 0.8446\n",
            "Epoch 2/10\n",
            "1250/1250 [==============================] - 505s 404ms/step - loss: 0.3722 - accuracy: 0.8482 - val_loss: 0.3251 - val_accuracy: 0.8660\n",
            "Epoch 3/10\n",
            "1250/1250 [==============================] - 482s 386ms/step - loss: 0.3391 - accuracy: 0.8626 - val_loss: 0.3096 - val_accuracy: 0.8683\n",
            "Epoch 4/10\n",
            "1250/1250 [==============================] - 507s 406ms/step - loss: 0.3182 - accuracy: 0.8735 - val_loss: 0.2957 - val_accuracy: 0.8773\n",
            "Epoch 5/10\n",
            "1250/1250 [==============================] - 469s 375ms/step - loss: 0.2998 - accuracy: 0.8824 - val_loss: 0.2990 - val_accuracy: 0.8798\n",
            "Epoch 6/10\n",
            "1250/1250 [==============================] - 515s 412ms/step - loss: 0.2875 - accuracy: 0.8877 - val_loss: 0.2982 - val_accuracy: 0.8826\n",
            "Epoch 7/10\n",
            "1250/1250 [==============================] - 466s 373ms/step - loss: 0.2695 - accuracy: 0.8960 - val_loss: 0.2965 - val_accuracy: 0.8776\n",
            "Epoch 8/10\n",
            "1250/1250 [==============================] - 509s 407ms/step - loss: 0.2580 - accuracy: 0.9031 - val_loss: 0.2820 - val_accuracy: 0.8861\n",
            "Epoch 9/10\n",
            "1250/1250 [==============================] - 464s 371ms/step - loss: 0.2443 - accuracy: 0.9068 - val_loss: 0.2873 - val_accuracy: 0.8841\n",
            "Epoch 10/10\n",
            "1250/1250 [==============================] - 471s 377ms/step - loss: 0.2306 - accuracy: 0.9133 - val_loss: 0.2838 - val_accuracy: 0.8853\n"
          ]
        }
      ],
      "source": [
        "model.compile(loss = tf.keras.losses.BinaryCrossentropy() , optimizer='Adam' , metrics = 'accuracy')\n",
        "history = model.fit(train_pad_sequence,training_labels,epochs = 10, validation_data=(test_pad_sequence,testing_labels),\n",
        "                   callbacks=[mcp_save])"
      ]
    },
    {
      "cell_type": "code",
      "execution_count": 38,
      "metadata": {
        "id": "HyqXhBk_NIEE"
      },
      "outputs": [],
      "source": [
        "tf.keras.Model.save_weights(model, filepath='weight.hdf5')"
      ]
    },
    {
      "cell_type": "markdown",
      "metadata": {
        "id": "mmPRj3ezNIEE"
      },
      "source": [
        "# Plotting Accuracy and Losses"
      ]
    },
    {
      "cell_type": "code",
      "execution_count": 39,
      "metadata": {
        "colab": {
          "base_uri": "https://localhost:8080/",
          "height": 887
        },
        "id": "i27fPhbUNIEE",
        "outputId": "8d1e56ce-3d42-4cf1-de04-8788fd03a0e0"
      },
      "outputs": [
        {
          "output_type": "display_data",
          "data": {
            "text/plain": [
              "<Figure size 640x480 with 1 Axes>"
            ],
            "image/png": "[encoded data removed]"
          },
          "metadata": {}
        },
        {
          "output_type": "display_data",
          "data": {
            "text/plain": [
              "<Figure size 640x480 with 1 Axes>"
            ],
            "image/png": "[encoded data removed]"
          },
          "metadata": {}
        }
      ],
      "source": [
        "acc = history.history['accuracy']\n",
        "val_acc = history.history['val_accuracy']\n",
        "loss = history.history['loss']\n",
        "val_loss = history.history['val_loss']\n",
        "epochs = range(len(acc))\n",
        "\n",
        "plt.plot(epochs, acc, 'r', label='Training accuracy')\n",
        "plt.plot(epochs, val_acc, 'b', label='Validation accuracy')\n",
        "plt.title('Training and validation accuracy')\n",
        "plt.legend(loc=0)\n",
        "plt.figure()\n",
        "\n",
        "plt.plot(epochs, loss, 'r', label='Training loss')\n",
        "plt.plot(epochs, val_loss, 'b', label='Validation loss')\n",
        "plt.title('Training and validation loss')\n",
        "plt.legend(loc=0)\n",
        "\n",
        "plt.show()"
      ]
    },
    {
      "cell_type": "code",
      "execution_count": 40,
      "metadata": {
        "colab": {
          "base_uri": "https://localhost:8080/"
        },
        "id": "pfixk1E_NIEF",
        "outputId": "6157d9ca-454d-46c5-9ef8-05117e59c67b"
      },
      "outputs": [
        {
          "output_type": "stream",
          "name": "stdout",
          "text": [
            "Training Accuracy: 0.913349986076355\n",
            "Validation Accuracy: 0.8860999941825867\n"
          ]
        }
      ],
      "source": [
        "print('Training Accuracy: {}'.format(max(acc)))\n",
        "print('Validation Accuracy: {}'.format(max(val_acc)))"
      ]
    },
    {
      "cell_type": "code",
      "source": [
        "import pickle\n",
        "from tensorflow.keras.models import load_model\n",
        "\n",
        "# Save the model\n",
        "model.save('sentiment_model.h5')\n",
        "\n",
        "# Save the tokenizer\n",
        "with open('tokenizer.pickle', 'wb') as handle:\n",
        "    pickle.dump(tokenizer, handle, protocol=pickle.HIGHEST_PROTOCOL)\n",
        "\n",
        "# Load the model\n",
        "loaded_model = tf.keras.models.load_model('sentiment_model.h5')\n",
        "\n",
        "# Load the tokenizer\n",
        "with open('tokenizer.pickle', 'rb') as handle:\n",
        "    loaded_tokenizer = pickle.load(handle)"
      ],
      "metadata": {
        "id": "J0tgqPNAmLVM"
      },
      "execution_count": 42,
      "outputs": []
    },
    {
      "cell_type": "code",
      "source": [
        "def predict_sentiment(sentence):\n",
        "    # Tokenize and pad the input sentence\n",
        "    max_length = 200\n",
        "    sequence = loaded_tokenizer.texts_to_sequences([sentence])\n",
        "    padded_sequence = pad_sequences(sequence, maxlen=max_length, padding='post', truncating='post')\n",
        "\n",
        "    # Make the prediction\n",
        "    prediction = loaded_model.predict(padded_sequence)\n",
        "    print(prediction[0][0])\n",
        "    # Interpret the prediction\n",
        "    if prediction[0][0] > 0.5:\n",
        "        return \"Positive\"\n",
        "    else:\n",
        "        return \"Negative\"\n",
        "\n",
        "# Example usage\n",
        "sentence_to_predict = \"worst bad\"\n",
        "result = predict_sentiment(sentence_to_predict)\n",
        "print(f\"The sentiment is: {result}\")"
      ],
      "metadata": {
        "colab": {
          "base_uri": "https://localhost:8080/"
        },
        "id": "I1mhKv9mmQfL",
        "outputId": "c47d40da-80fd-4b10-cb75-9f12fcd1f04f"
      },
      "execution_count": 44,
      "outputs": [
        {
          "output_type": "stream",
          "name": "stdout",
          "text": [
            "1/1 [==============================] - 0s 55ms/step\n",
            "0.28612784\n",
            "The sentiment is: Negative\n"
          ]
        }
      ]
    },
    {
      "cell_type": "markdown",
      "metadata": {
        "id": "QqU_zAWRNIEF"
      },
      "source": [
        "# Conclusion\n",
        "\n",
        "1 - We have great accuracy and we can increase it training for much longer and tune other hyperparameters\n",
        "2 - DNN LSTM have a deep impact on NLP problems and we can see that this model performs quite well."
      ]
    },
    {
      "cell_type": "code",
      "execution_count": null,
      "metadata": {
        "id": "s4mt2yEjNIEF"
      },
      "outputs": [],
      "source": []
    }
  ],
  "metadata": {
    "kernelspec": {
      "display_name": "Python 3",
      "language": "python",
      "name": "python3"
    },
    "language_info": {
      "codemirror_mode": {
        "name": "ipython",
        "version": 3
      },
      "file_extension": ".py",
      "mimetype": "text/x-python",
      "name": "python",
      "nbconvert_exporter": "python",
      "pygments_lexer": "ipython3",
      "version": "3.7.6"
    },
    "colab": {
      "provenance": []
    }
  },
  "nbformat": 4,
  "nbformat_minor": 0
}
